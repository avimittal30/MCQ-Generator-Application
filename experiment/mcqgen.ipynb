{
 "cells": [
  {
   "cell_type": "code",
   "execution_count": 1,
   "metadata": {},
   "outputs": [],
   "source": [
    "import openai\n",
    "import json\n",
    "import langchain\n",
    "\n",
    "import pandas as pd\n",
    "from openai import OpenAI\n",
    "\n",
    "from langchain_openai import OpenAI, ChatOpenAI\n",
    "\n",
    "import os\n",
    "from dotenv import load_dotenv"
   ]
  },
  {
   "cell_type": "code",
   "execution_count": 2,
   "metadata": {},
   "outputs": [
    {
     "data": {
      "text/plain": [
       "True"
      ]
     },
     "execution_count": 2,
     "metadata": {},
     "output_type": "execute_result"
    }
   ],
   "source": [
    "load_dotenv()"
   ]
  },
  {
   "cell_type": "code",
   "execution_count": 3,
   "metadata": {},
   "outputs": [],
   "source": [
    "key=os.getenv(\"OPENAI_API_KEY\")"
   ]
  },
  {
   "cell_type": "code",
   "execution_count": 4,
   "metadata": {},
   "outputs": [],
   "source": [
    "llm=ChatOpenAI(model=\"gpt-3.5-turbo\", temperature=0.7)"
   ]
  },
  {
   "cell_type": "code",
   "execution_count": 5,
   "metadata": {},
   "outputs": [],
   "source": [
    "from langchain.llms import openai\n",
    "from langchain.prompts import PromptTemplate\n",
    "from langchain.chains import LLMChain, SequentialChain\n",
    "from langchain.callbacks import get_openai_callback\n",
    "import PyPDF2"
   ]
  },
  {
   "cell_type": "code",
   "execution_count": 6,
   "metadata": {},
   "outputs": [],
   "source": [
    "response_json={\n",
    "    \"1\": {\n",
    "        \"mcq\": \"multiple choice question\",\n",
    "        \"options\": {\n",
    "            \"a\": \"choice here\",\n",
    "            \"b\": \"choice here\",\n",
    "            \"c\": \"choice here\",\n",
    "            \"d\": \"choice here\"\n",
    "        },\n",
    "        \"correct_answer\": \"correct answer\"\n",
    "    },\n",
    "    \"2\": {\n",
    "        \"mcq\": \"multiple choice question\",\n",
    "        \"options\": {\n",
    "            \"a\": \"choice here\",\n",
    "            \"b\": \"choice here\",\n",
    "            \"c\": \"choice here\",\n",
    "            \"d\": \"choice here\"\n",
    "        },\n",
    "        \"correct_answer\": \"correct answer\"\n",
    "    },\n",
    "    \"3\": {\n",
    "        \"mcq\": \"multiple choice question\",\n",
    "        \"options\": {\n",
    "            \"a\": \"choice here\",\n",
    "            \"b\": \"choice here\",\n",
    "            \"c\": \"choice here\",\n",
    "            \"d\": \"choice here\"\n",
    "        },\n",
    "        \"correct_answer\": \"correct answer\"\n",
    "    }\n",
    "}"
   ]
  },
  {
   "cell_type": "code",
   "execution_count": 7,
   "metadata": {},
   "outputs": [],
   "source": [
    "Template='''\n",
    "Text:{text}\n",
    "You are an expert MCQ maker. Given the above text, it is your job to create a quiz of {number} multiple \n",
    "choice questions for {subject} in {tone} tone. Make sure that the questions are not repeated and check all\n",
    "question to be confirming the text as well. Make sure to format your responses like {response_json} and use\n",
    "it as a guide     \n",
    "'''\n",
    "\n",
    "\n",
    "quiz_generation_prompt=PromptTemplate(\n",
    "    input_variables=[\"text\", \"number\", \"subject\", \"tone\", \"respone_json\"],\n",
    "    template=Template\n",
    ")"
   ]
  },
  {
   "cell_type": "code",
   "execution_count": 8,
   "metadata": {},
   "outputs": [],
   "source": [
    "quiz_chain=LLMChain(llm=llm, prompt=quiz_generation_prompt, output_key=\"quiz\", verbose=True)"
   ]
  },
  {
   "cell_type": "code",
   "execution_count": 9,
   "metadata": {},
   "outputs": [],
   "source": [
    "Template2=\"\"\"\n",
    "You are an expert english grammarian and a writer. Given a multiple choice Quiz for {subject} students,\n",
    "you need to evaluate  the complexity of the quiz and give a complete analysis of the quiz. Only use 50 words\n",
    "at max. If the quiz is not at par the with the cognitive and the analytical ability of the student, update\n",
    "the quiz questions and change the tone such that it perfectly fits the student's analytical ability.\n",
    "Quiz_MCQ:\n",
    "{quiz}\n",
    "\n",
    "\n",
    "\"\"\""
   ]
  },
  {
   "cell_type": "code",
   "execution_count": 10,
   "metadata": {},
   "outputs": [],
   "source": [
    "quiz_evaluation_prompt=PromptTemplate(input_variables=['subject','quiz'], template=Template2)"
   ]
  },
  {
   "cell_type": "code",
   "execution_count": 11,
   "metadata": {},
   "outputs": [],
   "source": [
    "review_chain=LLMChain(llm=llm, prompt=quiz_evaluation_prompt, output_key=\"review\", verbose=True)"
   ]
  },
  {
   "cell_type": "code",
   "execution_count": 12,
   "metadata": {},
   "outputs": [],
   "source": [
    "generate_evaluate_chain=SequentialChain(chains=[quiz_chain,review_chain], input_variables=[\"text\", \"number\", \"subject\", \"tone\", \"response_json\"], output_variables=['quiz', 'review'], verbose=True)"
   ]
  },
  {
   "cell_type": "code",
   "execution_count": 13,
   "metadata": {},
   "outputs": [],
   "source": [
    "file_path='src\\\\data.txt'\n",
    "with open(file_path, 'r') as file:\n",
    "    text=file.read()"
   ]
  },
  {
   "cell_type": "code",
   "execution_count": 14,
   "metadata": {},
   "outputs": [
    {
     "data": {
      "text/plain": [
       "'{\"1\": {\"mcq\": \"multiple choice question\", \"options\": {\"a\": \"choice here\", \"b\": \"choice here\", \"c\": \"choice here\", \"d\": \"choice here\"}, \"correct_answer\": \"correct answer\"}, \"2\": {\"mcq\": \"multiple choice question\", \"options\": {\"a\": \"choice here\", \"b\": \"choice here\", \"c\": \"choice here\", \"d\": \"choice here\"}, \"correct_answer\": \"correct answer\"}, \"3\": {\"mcq\": \"multiple choice question\", \"options\": {\"a\": \"choice here\", \"b\": \"choice here\", \"c\": \"choice here\", \"d\": \"choice here\"}, \"correct_answer\": \"correct answer\"}}'"
      ]
     },
     "execution_count": 14,
     "metadata": {},
     "output_type": "execute_result"
    }
   ],
   "source": [
    "# Serialize the python dic into JSON-formatted string \n",
    "json.dumps(response_json)"
   ]
  },
  {
   "cell_type": "code",
   "execution_count": 15,
   "metadata": {},
   "outputs": [],
   "source": [
    "number =6\n",
    "subject=\"Machine Learning\"\n",
    "tone=\"simple\""
   ]
  },
  {
   "cell_type": "code",
   "execution_count": 16,
   "metadata": {},
   "outputs": [
    {
     "name": "stderr",
     "output_type": "stream",
     "text": [
      "c:\\Users\\avimi\\.conda\\envs\\myenv\\lib\\site-packages\\langchain_core\\_api\\deprecation.py:119: LangChainDeprecationWarning: The method `Chain.__call__` was deprecated in langchain 0.1.0 and will be removed in 0.2.0. Use invoke instead.\n",
      "  warn_deprecated(\n"
     ]
    },
    {
     "name": "stdout",
     "output_type": "stream",
     "text": [
      "\n",
      "\n",
      "\u001b[1m> Entering new SequentialChain chain...\u001b[0m\n",
      "\n",
      "\n",
      "\u001b[1m> Entering new LLMChain chain...\u001b[0m\n",
      "Prompt after formatting:\n",
      "\u001b[32;1m\u001b[1;3m\n",
      "Text:The near future will be dominated by several missions. Currently in development, are ESA's Euclid mission which will fly NASA furnished detectors and JAXA's XRISM (X-Ray Imaging and Spectroscopy) mission which uses NASA furnished technologies that will help provide breakthroughs in the study of structure formation of the universe, outflows from galaxy nuclei, and dark matter.\n",
      "\n",
      "Completing the missions in development, supporting the operational missions, and funding the research and analysis programs will consume most of the Astrophysics Division resources.\n",
      "\n",
      "In October 2021, NASA selected a new Explorer Mission, the gamma-ray telescope COSI (Compton Spectrometer and Imager). COSI will study the recent history of star birth, star death, and the formation of chemical elements in the Milky Way.\n",
      "\n",
      "In March 2017, NASA selected the Explorer Mission of Opportunity GUSTO (Galactic/Extragalactic ULDB Spectroscopic Terahertz Observatory) to measure emissions from the interstellar medium to help scientists determine the life cycle of interstellar gas in our Milky Way, witness the formation and destruction of star-forming clouds, and understand the dynamics and gas flow in the vicinity of the center of our galaxy.\n",
      "\n",
      "In February 2016, NASA formally started the top Astro2010 decadal recommendation, the Wide Field Infrared Survey Telescope (WFIRST). In spring of 2020, WFIRST was renamed the Nancy Grace Roman Space Telescope. Roman will aid researchers in their efforts to unravel the secrets of dark energy and dark matter, and explore the evolution of the cosmos. It will also discover new worlds outside our solar system and advance the search for worlds that could be suitable for life.\n",
      "\n",
      "The Future\n",
      "Since the 2001 decadal survey, the way the universe is viewed has changed dramatically. More than 3800 planets have been discovered orbiting distant stars. Black holes are now known to be present at the center of most galaxies, including the Milky Way galaxy. The age, size and shape of the universe have been mapped based on the primordial radiation left by the big bang. And it has been learned that most of the matter in the universe is dark and invisible, and the universe is not only expanding, but accelerating in an unexpected way.\n",
      "\n",
      "For the long term future, the Astrophysics goals will be guided based on the results of the 2020 Decadal survey Pathways to Discovery in Astronomy and Astrophysics for the 2020s. It identifies the most compelling science goals and presents an ambitious program of ground- and space-based activities for future investment. The report recommends critical near-term actions to support the foundations of the profession as well as the technologies and tools needed to carry out the science.\n",
      "\n",
      "In 2012 the Astrophysics Implementation Plan was released which describes the activities currently being undertaken in response to the decadal survey recommendations within the current budgetary constraints. The plan was updated in 2014, 2016, and in 2018.\n",
      "\n",
      "The Astrophysics roadmap Enduring Quests, Daring Visions was developed by a task force of the Astrophysics Subcommittee (APS) in 2013. The Roadmap presents a 30-year vision for astrophysics using the most recent decadal survey as the starting point.\n",
      "You are an expert MCQ maker. Given the above text, it is your job to create a quiz of 6 multiple \n",
      "choice questions for Machine Learning in simple tone. Make sure that the questions are not repeated and check all\n",
      "question to be confirming the text as well. Make sure to format your responses like {\"1\": {\"mcq\": \"multiple choice question\", \"options\": {\"a\": \"choice here\", \"b\": \"choice here\", \"c\": \"choice here\", \"d\": \"choice here\"}, \"correct_answer\": \"correct answer\"}, \"2\": {\"mcq\": \"multiple choice question\", \"options\": {\"a\": \"choice here\", \"b\": \"choice here\", \"c\": \"choice here\", \"d\": \"choice here\"}, \"correct_answer\": \"correct answer\"}, \"3\": {\"mcq\": \"multiple choice question\", \"options\": {\"a\": \"choice here\", \"b\": \"choice here\", \"c\": \"choice here\", \"d\": \"choice here\"}, \"correct_answer\": \"correct answer\"}} and use\n",
      "it as a guide     \n",
      "\u001b[0m\n",
      "\n",
      "\u001b[1m> Finished chain.\u001b[0m\n",
      "\n",
      "\n",
      "\u001b[1m> Entering new LLMChain chain...\u001b[0m\n",
      "Prompt after formatting:\n",
      "\u001b[32;1m\u001b[1;3m\n",
      "You are an expert english grammarian and a writer. Given a multiple choice Quiz for Machine Learning students,\n",
      "you need to evaluate  the complexity of the quiz and give a complete analysis of the quiz. Only use 50 words\n",
      "at max. If the quiz is not at par the with the cognitive and the analytical ability of the student, update\n",
      "the quiz questions and change the tone such that it perfectly fits the student's analytical ability.\n",
      "Quiz_MCQ:\n",
      "{\"1\": {\"mcq\": \"Which NASA mission will study the recent history of star birth, star death, and the formation of chemical elements in the Milky Way?\", \"options\": {\"a\": \"Euclid mission\", \"b\": \"XRISM mission\", \"c\": \"COSI mission\", \"d\": \"GUSTO mission\"}, \"correct_answer\": \"c\"}, \"2\": {\"mcq\": \"What was the Wide Field Infrared Survey Telescope (WFIRST) renamed to in spring of 2020?\", \"options\": {\"a\": \"Euclid Telescope\", \"b\": \"Roman Space Telescope\", \"c\": \"XRISM Telescope\", \"d\": \"COSI Telescope\"}, \"correct_answer\": \"b\"}, \"3\": {\"mcq\": \"Which mission was selected by NASA in October 2021 to study emissions from the interstellar medium?\", \"options\": {\"a\": \"Euclid mission\", \"b\": \"XRISM mission\", \"c\": \"COSI mission\", \"d\": \"GUSTO mission\"}, \"correct_answer\": \"c\"}, \"4\": {\"mcq\": \"What is the main goal of the Nancy Grace Roman Space Telescope?\", \"options\": {\"a\": \"Study dark energy and dark matter\", \"b\": \"Explore the evolution of the cosmos\", \"c\": \"Discover new worlds outside our solar system\", \"d\": \"All of the above\"}, \"correct_answer\": \"d\"}, \"5\": {\"mcq\": \"In what year was the Astrophysics Implementation Plan first released?\", \"options\": {\"a\": \"2012\", \"b\": \"2014\", \"c\": \"2016\", \"d\": \"2018\"}, \"correct_answer\": \"a\"}, \"6\": {\"mcq\": \"What does the Astrophysics roadmap Enduring Quests, Daring Visions present?\", \"options\": {\"a\": \"A 10-year vision for astrophysics\", \"b\": \"A 20-year vision for astrophysics\", \"c\": \"A 30-year vision for astrophysics\", \"d\": \"A 40-year vision for astrophysics\"}, \"correct_answer\": \"c\"}}\n",
      "\n",
      "\n",
      "\u001b[0m\n",
      "\n",
      "\u001b[1m> Finished chain.\u001b[0m\n",
      "\n",
      "\u001b[1m> Finished chain.\u001b[0m\n"
     ]
    }
   ],
   "source": [
    "# Track token usage using get_openai_callback\n",
    "with get_openai_callback() as cb:\n",
    "    response=generate_evaluate_chain(\n",
    "        {   \n",
    "            \"text\":text,\n",
    "            \"number\":number,\n",
    "            \"subject\":subject,\n",
    "            \"tone\":tone,\n",
    "            \"response_json\":json.dumps(response_json)\n",
    "        }\n",
    ")"
   ]
  },
  {
   "cell_type": "code",
   "execution_count": 19,
   "metadata": {},
   "outputs": [
    {
     "name": "stdout",
     "output_type": "stream",
     "text": [
      "Total Tokens: 1256\n",
      "Prompt Tokens: 808\n",
      "Completion Tokens: 448\n",
      "Total Cost: 0.002108\n"
     ]
    }
   ],
   "source": [
    "print(f\"Total Tokens: {cb.total_tokens}\")\n",
    "print(f\"Prompt Tokens: {cb.prompt_tokens}\")\n",
    "print(f\"Completion Tokens: {cb.completion_tokens}\")\n",
    "print(f\"Total Cost: {cb.total_cost}\")"
   ]
  },
  {
   "cell_type": "code",
   "execution_count": 40,
   "metadata": {},
   "outputs": [
    {
     "data": {
      "text/plain": [
       "'{\"1\": {\"mcq\": \"What is the purpose of Physics?\", \"options\": {\"a\": \"To find the best restaurants in town\", \"b\": \"To study the interaction of matter and energy\", \"c\": \"To explore the history of ancient civilizations\", \"d\": \"To learn how to play musical instruments\"}, \"correct_answer\": \"b\"},\\n\\n\"2\": {\"mcq\": \"Which of the following is NOT a branch of Physics mentioned in the text?\", \"options\": {\"a\": \"Chemical Physics\", \"b\": \"Classical Physics\", \"c\": \"Modern Physics\", \"d\": \"Astrophysics\"}, \"correct_answer\": \"a\"},\\n\\n\"3\": {\"mcq\": \"What is the focus of Classical Physics?\", \"options\": {\"a\": \"Studying quantum mechanics\", \"b\": \"Exploring relativity theory\", \"c\": \"Understanding macroscopic phenomena\", \"d\": \"Investigating subatomic particles\"}, \"correct_answer\": \"c\"},\\n\\n\"4\": {\"mcq\": \"Which branch of Physics deals with the Nanoworld to the planets?\", \"options\": {\"a\": \"Astrophysics\", \"b\": \"Quantum Physics\", \"c\": \"Classical Physics\", \"d\": \"Modern Physics\"}, \"correct_answer\": \"d\"},\\n\\n\"5\": {\"mcq\": \"What is the foundation of Physics?\", \"options\": {\"a\": \"Observations and experiments\", \"b\": \"Guessing and assuming\", \"c\": \"Intuition and opinion\", \"d\": \"Random selection\"}, \"correct_answer\": \"a\"},\\n\\n\"6\": {\"mcq\": \"What is the role of mathematical analysis in Physics?\", \"options\": {\"a\": \"To confuse scientists\", \"b\": \"To provide a clearer understanding of physical laws\", \"c\": \"To create chaos in experiments\", \"d\": \"To complicate measurements\"}, \"correct_answer\": \"b\"}}'"
      ]
     },
     "execution_count": 40,
     "metadata": {},
     "output_type": "execute_result"
    }
   ],
   "source": [
    "quiz=response.get(\"quiz\", None).strip()\n",
    "quiz"
   ]
  },
  {
   "cell_type": "code",
   "execution_count": 17,
   "metadata": {},
   "outputs": [
    {
     "data": {
      "text/plain": [
       "'The quiz is complex for Machine Learning students as it focuses on specific details of NASA missions and astrophysics. To make it more suitable, simplify questions to focus on general concepts like the goals of space missions and key milestones in astrophysics.'"
      ]
     },
     "execution_count": 17,
     "metadata": {},
     "output_type": "execute_result"
    }
   ],
   "source": [
    "response.get(\"review\", None).strip()"
   ]
  },
  {
   "cell_type": "code",
   "execution_count": 21,
   "metadata": {},
   "outputs": [
    {
     "data": {
      "text/plain": [
       "{'1': {'mcq': 'What is the purpose of Physics?',\n",
       "  'options': {'a': 'To find the best restaurants in town',\n",
       "   'b': 'To study the interaction of matter and energy',\n",
       "   'c': 'To explore the history of ancient civilizations',\n",
       "   'd': 'To learn how to play musical instruments'},\n",
       "  'correct_answer': 'b'},\n",
       " '2': {'mcq': 'Which of the following is NOT a branch of Physics mentioned in the text?',\n",
       "  'options': {'a': 'Chemical Physics',\n",
       "   'b': 'Classical Physics',\n",
       "   'c': 'Modern Physics',\n",
       "   'd': 'Astrophysics'},\n",
       "  'correct_answer': 'a'},\n",
       " '3': {'mcq': 'What is the focus of Classical Physics?',\n",
       "  'options': {'a': 'Studying quantum mechanics',\n",
       "   'b': 'Exploring relativity theory',\n",
       "   'c': 'Understanding macroscopic phenomena',\n",
       "   'd': 'Investigating subatomic particles'},\n",
       "  'correct_answer': 'c'},\n",
       " '4': {'mcq': 'Which branch of Physics deals with the Nanoworld to the planets?',\n",
       "  'options': {'a': 'Astrophysics',\n",
       "   'b': 'Quantum Physics',\n",
       "   'c': 'Classical Physics',\n",
       "   'd': 'Modern Physics'},\n",
       "  'correct_answer': 'd'},\n",
       " '5': {'mcq': 'What is the foundation of Physics?',\n",
       "  'options': {'a': 'Observations and experiments',\n",
       "   'b': 'Guessing and assuming',\n",
       "   'c': 'Intuition and opinion',\n",
       "   'd': 'Random selection'},\n",
       "  'correct_answer': 'a'},\n",
       " '6': {'mcq': 'What is the role of mathematical analysis in Physics?',\n",
       "  'options': {'a': 'To confuse scientists',\n",
       "   'b': 'To provide a clearer understanding of physical laws',\n",
       "   'c': 'To create chaos in experiments',\n",
       "   'd': 'To complicate measurements'},\n",
       "  'correct_answer': 'b'}}"
      ]
     },
     "execution_count": 21,
     "metadata": {},
     "output_type": "execute_result"
    }
   ],
   "source": [
    "json.loads(quiz)"
   ]
  },
  {
   "cell_type": "code",
   "execution_count": 25,
   "metadata": {},
   "outputs": [],
   "source": []
  },
  {
   "cell_type": "code",
   "execution_count": 22,
   "metadata": {},
   "outputs": [],
   "source": [
    "quiz_table_data=[]\n",
    "for key,value in json.loads(quiz).items():\n",
    "    mcq=value['mcq']\n",
    "    options=\"|\".join(\n",
    "        [\n",
    "            f\"{option}:{option_value}\"\n",
    "            for option, option_value in value[\"options\"].items()\n",
    "        ]\n",
    "\n",
    "    )\n",
    "\n",
    "    correct=value['correct_answer']\n",
    "    quiz_table_data.append({\"MCQ\":mcq, \"Choices\":options, \"Correct\":correct})"
   ]
  },
  {
   "cell_type": "code",
   "execution_count": 23,
   "metadata": {},
   "outputs": [
    {
     "data": {
      "text/plain": [
       "[{'MCQ': 'What is the purpose of Physics?',\n",
       "  'Choices': 'a:To find the best restaurants in town|b:To study the interaction of matter and energy|c:To explore the history of ancient civilizations|d:To learn how to play musical instruments',\n",
       "  'Correct': 'b'},\n",
       " {'MCQ': 'Which of the following is NOT a branch of Physics mentioned in the text?',\n",
       "  'Choices': 'a:Chemical Physics|b:Classical Physics|c:Modern Physics|d:Astrophysics',\n",
       "  'Correct': 'a'},\n",
       " {'MCQ': 'What is the focus of Classical Physics?',\n",
       "  'Choices': 'a:Studying quantum mechanics|b:Exploring relativity theory|c:Understanding macroscopic phenomena|d:Investigating subatomic particles',\n",
       "  'Correct': 'c'},\n",
       " {'MCQ': 'Which branch of Physics deals with the Nanoworld to the planets?',\n",
       "  'Choices': 'a:Astrophysics|b:Quantum Physics|c:Classical Physics|d:Modern Physics',\n",
       "  'Correct': 'd'},\n",
       " {'MCQ': 'What is the foundation of Physics?',\n",
       "  'Choices': 'a:Observations and experiments|b:Guessing and assuming|c:Intuition and opinion|d:Random selection',\n",
       "  'Correct': 'a'},\n",
       " {'MCQ': 'What is the role of mathematical analysis in Physics?',\n",
       "  'Choices': 'a:To confuse scientists|b:To provide a clearer understanding of physical laws|c:To create chaos in experiments|d:To complicate measurements',\n",
       "  'Correct': 'b'}]"
      ]
     },
     "execution_count": 23,
     "metadata": {},
     "output_type": "execute_result"
    }
   ],
   "source": [
    "quiz_table_data"
   ]
  },
  {
   "cell_type": "code",
   "execution_count": 24,
   "metadata": {},
   "outputs": [
    {
     "data": {
      "text/html": [
       "<div>\n",
       "<style scoped>\n",
       "    .dataframe tbody tr th:only-of-type {\n",
       "        vertical-align: middle;\n",
       "    }\n",
       "\n",
       "    .dataframe tbody tr th {\n",
       "        vertical-align: top;\n",
       "    }\n",
       "\n",
       "    .dataframe thead th {\n",
       "        text-align: right;\n",
       "    }\n",
       "</style>\n",
       "<table border=\"1\" class=\"dataframe\">\n",
       "  <thead>\n",
       "    <tr style=\"text-align: right;\">\n",
       "      <th></th>\n",
       "      <th>MCQ</th>\n",
       "      <th>Choices</th>\n",
       "      <th>Correct</th>\n",
       "    </tr>\n",
       "  </thead>\n",
       "  <tbody>\n",
       "    <tr>\n",
       "      <th>0</th>\n",
       "      <td>What is the purpose of Physics?</td>\n",
       "      <td>a:To find the best restaurants in town|b:To st...</td>\n",
       "      <td>b</td>\n",
       "    </tr>\n",
       "    <tr>\n",
       "      <th>1</th>\n",
       "      <td>Which of the following is NOT a branch of Phys...</td>\n",
       "      <td>a:Chemical Physics|b:Classical Physics|c:Moder...</td>\n",
       "      <td>a</td>\n",
       "    </tr>\n",
       "    <tr>\n",
       "      <th>2</th>\n",
       "      <td>What is the focus of Classical Physics?</td>\n",
       "      <td>a:Studying quantum mechanics|b:Exploring relat...</td>\n",
       "      <td>c</td>\n",
       "    </tr>\n",
       "    <tr>\n",
       "      <th>3</th>\n",
       "      <td>Which branch of Physics deals with the Nanowor...</td>\n",
       "      <td>a:Astrophysics|b:Quantum Physics|c:Classical P...</td>\n",
       "      <td>d</td>\n",
       "    </tr>\n",
       "    <tr>\n",
       "      <th>4</th>\n",
       "      <td>What is the foundation of Physics?</td>\n",
       "      <td>a:Observations and experiments|b:Guessing and ...</td>\n",
       "      <td>a</td>\n",
       "    </tr>\n",
       "    <tr>\n",
       "      <th>5</th>\n",
       "      <td>What is the role of mathematical analysis in P...</td>\n",
       "      <td>a:To confuse scientists|b:To provide a clearer...</td>\n",
       "      <td>b</td>\n",
       "    </tr>\n",
       "  </tbody>\n",
       "</table>\n",
       "</div>"
      ],
      "text/plain": [
       "                                                 MCQ  \\\n",
       "0                    What is the purpose of Physics?   \n",
       "1  Which of the following is NOT a branch of Phys...   \n",
       "2            What is the focus of Classical Physics?   \n",
       "3  Which branch of Physics deals with the Nanowor...   \n",
       "4                 What is the foundation of Physics?   \n",
       "5  What is the role of mathematical analysis in P...   \n",
       "\n",
       "                                             Choices Correct  \n",
       "0  a:To find the best restaurants in town|b:To st...       b  \n",
       "1  a:Chemical Physics|b:Classical Physics|c:Moder...       a  \n",
       "2  a:Studying quantum mechanics|b:Exploring relat...       c  \n",
       "3  a:Astrophysics|b:Quantum Physics|c:Classical P...       d  \n",
       "4  a:Observations and experiments|b:Guessing and ...       a  \n",
       "5  a:To confuse scientists|b:To provide a clearer...       b  "
      ]
     },
     "execution_count": 24,
     "metadata": {},
     "output_type": "execute_result"
    }
   ],
   "source": [
    "import pandas as pd\n",
    "pd.DataFrame(quiz_table_data)"
   ]
  },
  {
   "cell_type": "code",
   "execution_count": 61,
   "metadata": {},
   "outputs": [],
   "source": [
    "def get_table_data(quiz_str):\n",
    "    try:\n",
    "        \n",
    "        quiz_table_data=[]\n",
    "\n",
    "        for key, value in quiz_str.items():\n",
    "            mcq=value['mcq']\n",
    "            options=\"||\".join(\n",
    "        [\n",
    "            f\"{option}:{option_value}\"\n",
    "            for option, option_value in value[\"options\"].items()\n",
    "        ]\n",
    "\n",
    "        )\n",
    "\n",
    "        correct=value['correct_answer']\n",
    "        quiz_table_data.append({\"MCQ\":mcq, \"Choices\":options, \"Correct\":correct})\n",
    "    except Exception as e:\n",
    "        traceback.print_exception(type(e),e,e.__traceback__)\n",
    "        return False"
   ]
  },
  {
   "cell_type": "code",
   "execution_count": 66,
   "metadata": {},
   "outputs": [],
   "source": [
    "data_table=get_table_data(quiz)"
   ]
  },
  {
   "cell_type": "code",
   "execution_count": 68,
   "metadata": {},
   "outputs": [],
   "source": [
    "data_table"
   ]
  },
  {
   "cell_type": "code",
   "execution_count": 67,
   "metadata": {},
   "outputs": [
    {
     "data": {
      "text/html": [
       "<div>\n",
       "<style scoped>\n",
       "    .dataframe tbody tr th:only-of-type {\n",
       "        vertical-align: middle;\n",
       "    }\n",
       "\n",
       "    .dataframe tbody tr th {\n",
       "        vertical-align: top;\n",
       "    }\n",
       "\n",
       "    .dataframe thead th {\n",
       "        text-align: right;\n",
       "    }\n",
       "</style>\n",
       "<table border=\"1\" class=\"dataframe\">\n",
       "  <thead>\n",
       "    <tr style=\"text-align: right;\">\n",
       "      <th></th>\n",
       "    </tr>\n",
       "  </thead>\n",
       "  <tbody>\n",
       "  </tbody>\n",
       "</table>\n",
       "</div>"
      ],
      "text/plain": [
       "Empty DataFrame\n",
       "Columns: []\n",
       "Index: []"
      ]
     },
     "execution_count": 67,
     "metadata": {},
     "output_type": "execute_result"
    }
   ],
   "source": [
    "pd.DataFrame(data_table)"
   ]
  },
  {
   "cell_type": "code",
   "execution_count": 64,
   "metadata": {},
   "outputs": [],
   "source": [
    "data_table"
   ]
  },
  {
   "cell_type": "code",
   "execution_count": 72,
   "metadata": {},
   "outputs": [],
   "source": [
    "import traceback\n",
    "def get_table_data(quiz_str):\n",
    "    try:\n",
    "        #quiz_dict=json.loads(quiz_str)\n",
    "        quiz_table_data=[]\n",
    "\n",
    "        for key, value in quiz_str.items():\n",
    "            mcq=value['mcq']\n",
    "            options=\"||\".join(\n",
    "        [\n",
    "            f\"{option}:{option_value}\"\n",
    "            for option, option_value in value[\"options\"].items()\n",
    "        ]\n",
    "\n",
    "        )\n",
    "            correct=value['correct_answer']\n",
    "            quiz_table_data.append({\"MCQ\":mcq, \"Choices\":options, \"Correct\":correct})\n",
    "        return quiz_table_data\n",
    "    except Exception as e:\n",
    "        traceback.print_exception(type(e),e,e.__traceback__)\n",
    "        return False"
   ]
  },
  {
   "cell_type": "code",
   "execution_count": 76,
   "metadata": {},
   "outputs": [],
   "source": [
    "quiz={\"1\": {\"mcq\": \"What is the purpose of Physics?\", \"options\": {\"a\": \"To find the quantitative physical laws\", \"b\": \"To study history\", \"c\": \"To explore the oceans\", \"d\": \"To learn about astronomy\"}, \"correct_answer\": \"a\"},\n",
    "\n",
    "\"2\": {\"mcq\": \"How many major branches of Physics are there?\", \"options\": {\"a\": \"One\", \"b\": \"Two\", \"c\": \"Three\", \"d\": \"Four\"}, \"correct_answer\": \"b\"},\n",
    "\n",
    "\"3\": {\"mcq\": \"Which branch of Physics deals with the interaction of matter and energy?\", \"options\": {\"a\": \"Biology\", \"b\": \"Chemistry\", \"c\": \"Physics\", \"d\": \"Modern Physics\"}, \"correct_answer\": \"c\"}}"
   ]
  },
  {
   "cell_type": "code",
   "execution_count": 75,
   "metadata": {},
   "outputs": [],
   "source": [
    "def get_table_data(quiz_str):\n",
    "    try:\n",
    "       \n",
    "        quiz_table_data=[]\n",
    "\n",
    "        for key, value in quiz_str.items():\n",
    "            mcq=value['mcq']\n",
    "            options=\"||\".join(\n",
    "        [\n",
    "            f\"{option}:{option_value}\"\n",
    "            for option, option_value in value[\"options\"].items()\n",
    "        ]\n",
    "\n",
    "        )\n",
    "            correct=value['correct_answer']\n",
    "            quiz_table_data.append({\"MCQ\":mcq, \"Choices\":options, \"Correct\":correct})\n",
    "        return quiz_table_data\n",
    "    except Exception as e:\n",
    "        traceback.print_exception(type(e),e,e.__traceback__)\n",
    "        return False"
   ]
  },
  {
   "cell_type": "code",
   "execution_count": 78,
   "metadata": {},
   "outputs": [
    {
     "data": {
      "text/html": [
       "<div>\n",
       "<style scoped>\n",
       "    .dataframe tbody tr th:only-of-type {\n",
       "        vertical-align: middle;\n",
       "    }\n",
       "\n",
       "    .dataframe tbody tr th {\n",
       "        vertical-align: top;\n",
       "    }\n",
       "\n",
       "    .dataframe thead th {\n",
       "        text-align: right;\n",
       "    }\n",
       "</style>\n",
       "<table border=\"1\" class=\"dataframe\">\n",
       "  <thead>\n",
       "    <tr style=\"text-align: right;\">\n",
       "      <th></th>\n",
       "      <th>MCQ</th>\n",
       "      <th>Choices</th>\n",
       "      <th>Correct</th>\n",
       "    </tr>\n",
       "  </thead>\n",
       "  <tbody>\n",
       "    <tr>\n",
       "      <th>0</th>\n",
       "      <td>What is the purpose of Physics?</td>\n",
       "      <td>a:To find the quantitative physical laws||b:To...</td>\n",
       "      <td>a</td>\n",
       "    </tr>\n",
       "    <tr>\n",
       "      <th>1</th>\n",
       "      <td>How many major branches of Physics are there?</td>\n",
       "      <td>a:One||b:Two||c:Three||d:Four</td>\n",
       "      <td>b</td>\n",
       "    </tr>\n",
       "    <tr>\n",
       "      <th>2</th>\n",
       "      <td>Which branch of Physics deals with the interac...</td>\n",
       "      <td>a:Biology||b:Chemistry||c:Physics||d:Modern Ph...</td>\n",
       "      <td>c</td>\n",
       "    </tr>\n",
       "  </tbody>\n",
       "</table>\n",
       "</div>"
      ],
      "text/plain": [
       "                                                 MCQ  \\\n",
       "0                    What is the purpose of Physics?   \n",
       "1      How many major branches of Physics are there?   \n",
       "2  Which branch of Physics deals with the interac...   \n",
       "\n",
       "                                             Choices Correct  \n",
       "0  a:To find the quantitative physical laws||b:To...       a  \n",
       "1                      a:One||b:Two||c:Three||d:Four       b  \n",
       "2  a:Biology||b:Chemistry||c:Physics||d:Modern Ph...       c  "
      ]
     },
     "execution_count": 78,
     "metadata": {},
     "output_type": "execute_result"
    }
   ],
   "source": [
    "pd.DataFrame(get_table_data(quiz))"
   ]
  },
  {
   "cell_type": "code",
   "execution_count": 59,
   "metadata": {},
   "outputs": [],
   "source": [
    "for key, value in quiz.items():\n",
    "            mcq=value['mcq']\n",
    "            options=\"||\".join(\n",
    "        [\n",
    "            f\"{option}:{option_value}\"\n",
    "            for option, option_value in value[\"options\"].items()\n",
    "        ]\n",
    "\n",
    "        )\n",
    "            correct=value['correct_answer']\n",
    "            quiz_table_data.append({\"MCQ\":mcq, \"Choices\":options, \"Correct\":correct})"
   ]
  },
  {
   "cell_type": "code",
   "execution_count": 60,
   "metadata": {},
   "outputs": [
    {
     "data": {
      "text/plain": [
       "[{'MCQ': 'What is the purpose of Physics?',\n",
       "  'Choices': 'a:To find the best restaurants in town||b:To study the interaction of matter and energy||c:To explore the history of ancient civilizations||d:To learn how to play musical instruments',\n",
       "  'Correct': 'b'},\n",
       " {'MCQ': 'Which of the following is NOT a branch of Physics mentioned in the text?',\n",
       "  'Choices': 'a:Chemical Physics||b:Classical Physics||c:Modern Physics||d:Astrophysics',\n",
       "  'Correct': 'a'},\n",
       " {'MCQ': 'What is the focus of Classical Physics?',\n",
       "  'Choices': 'a:Studying quantum mechanics||b:Exploring relativity theory||c:Understanding macroscopic phenomena||d:Investigating subatomic particles',\n",
       "  'Correct': 'c'},\n",
       " {'MCQ': 'Which branch of Physics deals with the Nanoworld to the planets?',\n",
       "  'Choices': 'a:Astrophysics||b:Quantum Physics||c:Classical Physics||d:Modern Physics',\n",
       "  'Correct': 'd'},\n",
       " {'MCQ': 'What is the foundation of Physics?',\n",
       "  'Choices': 'a:Observations and experiments||b:Guessing and assuming||c:Intuition and opinion||d:Random selection',\n",
       "  'Correct': 'a'},\n",
       " {'MCQ': 'What is the role of mathematical analysis in Physics?',\n",
       "  'Choices': 'a:To confuse scientists||b:To provide a clearer understanding of physical laws||c:To create chaos in experiments||d:To complicate measurements',\n",
       "  'Correct': 'b'},\n",
       " {'MCQ': 'What is the purpose of Physics?',\n",
       "  'Choices': 'a:To find the quantitative physical laws||b:To study history||c:To explore the oceans||d:To learn about astronomy',\n",
       "  'Correct': 'a'},\n",
       " {'MCQ': 'How many major branches of Physics are there?',\n",
       "  'Choices': 'a:One||b:Two||c:Three||d:Four',\n",
       "  'Correct': 'b'},\n",
       " {'MCQ': 'Which branch of Physics deals with the interaction of matter and energy?',\n",
       "  'Choices': 'a:Biology||b:Chemistry||c:Physics||d:Modern Physics',\n",
       "  'Correct': 'c'}]"
      ]
     },
     "execution_count": 60,
     "metadata": {},
     "output_type": "execute_result"
    }
   ],
   "source": [
    "quiz_table_data"
   ]
  },
  {
   "cell_type": "code",
   "execution_count": 2,
   "metadata": {},
   "outputs": [],
   "source": [
    "q={\"1\": {\"mcq\": \"What is the purpose of Physics?\", \"options\": {\"a\": \"To find the best recipes\", \"b\": \"To find the quantitative physical laws\", \"c\": \"To predict the weather\", \"d\": \"To study historical events\"}, \"correct_answer\": \"b\"},\n",
    "\n",
    "\"2\": {\"mcq\": \"What are the two major branches of Physics mentioned in the text?\", \"options\": {\"a\": \"Chemistry and Biology\", \"b\": \"Classical Physics and Quantum Physics\", \"c\": \"Physics and Mathematics\", \"d\": \"Modern Physics and Ancient Physics\"}, \"correct_answer\": \"b\"}, \n",
    "\n",
    "\"3\": {\"mcq\": \"What is Physics commonly known as?\", \"options\": {\"a\": \"The study of plants\", \"b\": \"The study of matter and energy interaction\", \"c\": \"The study of history\", \"d\": \"The study of language\"}, \"correct_answer\": \"b\"}}"
   ]
  },
  {
   "cell_type": "code",
   "execution_count": 3,
   "metadata": {},
   "outputs": [],
   "source": [
    "def get_table_data(quiz_str):\n",
    "    try:\n",
    "       \n",
    "        quiz_table_data=[]\n",
    "\n",
    "        for key, value in quiz_str.items():\n",
    "            mcq=value['mcq']\n",
    "            options=\"||\".join(\n",
    "        [\n",
    "            f\"{option}:{option_value}\"\n",
    "            for option, option_value in value[\"options\"].items()\n",
    "        ]\n",
    "\n",
    "        )\n",
    "            correct=value['correct_answer']\n",
    "            quiz_table_data.append({\"MCQ\":mcq, \"Choices\":options, \"Correct\":correct})\n",
    "        return quiz_table_data\n",
    "    except Exception as e:\n",
    "        traceback.print_exception(type(e),e,e.__traceback__)\n",
    "        return False"
   ]
  },
  {
   "cell_type": "code",
   "execution_count": 4,
   "metadata": {},
   "outputs": [
    {
     "data": {
      "text/plain": [
       "[{'MCQ': 'What is the purpose of Physics?',\n",
       "  'Choices': 'a:To find the best recipes||b:To find the quantitative physical laws||c:To predict the weather||d:To study historical events',\n",
       "  'Correct': 'b'},\n",
       " {'MCQ': 'What are the two major branches of Physics mentioned in the text?',\n",
       "  'Choices': 'a:Chemistry and Biology||b:Classical Physics and Quantum Physics||c:Physics and Mathematics||d:Modern Physics and Ancient Physics',\n",
       "  'Correct': 'b'},\n",
       " {'MCQ': 'What is Physics commonly known as?',\n",
       "  'Choices': 'a:The study of plants||b:The study of matter and energy interaction||c:The study of history||d:The study of language',\n",
       "  'Correct': 'b'}]"
      ]
     },
     "execution_count": 4,
     "metadata": {},
     "output_type": "execute_result"
    }
   ],
   "source": [
    "get_table_data(q)"
   ]
  },
  {
   "cell_type": "code",
   "execution_count": null,
   "metadata": {},
   "outputs": [],
   "source": []
  }
 ],
 "metadata": {
  "kernelspec": {
   "display_name": "myenv",
   "language": "python",
   "name": "python3"
  },
  "language_info": {
   "codemirror_mode": {
    "name": "ipython",
    "version": 3
   },
   "file_extension": ".py",
   "mimetype": "text/x-python",
   "name": "python",
   "nbconvert_exporter": "python",
   "pygments_lexer": "ipython3",
   "version": "3.9.19"
  }
 },
 "nbformat": 4,
 "nbformat_minor": 2
}
